{
  "nbformat": 4,
  "nbformat_minor": 0,
  "metadata": {
    "colab": {
      "name": "HW-2.ipynb",
      "provenance": [],
      "authorship_tag": "ABX9TyPf1zDXbwkP9SagmeXz0JhR",
      "include_colab_link": true
    },
    "kernelspec": {
      "name": "python3",
      "display_name": "Python 3"
    }
  },
  "cells": [
    {
      "cell_type": "markdown",
      "metadata": {
        "id": "view-in-github",
        "colab_type": "text"
      },
      "source": [
        "<a href=\"https://colab.research.google.com/github/ekanshtrivedi/home-work/blob/master/HW_2.ipynb\" target=\"_parent\"><img src=\"https://colab.research.google.com/assets/colab-badge.svg\" alt=\"Open In Colab\"/></a>"
      ]
    },
    {
      "cell_type": "code",
      "metadata": {
        "id": "QCYycr8kdrGm",
        "colab_type": "code",
        "colab": {}
      },
      "source": [
        ""
      ],
      "execution_count": null,
      "outputs": []
    },
    {
      "cell_type": "markdown",
      "metadata": {
        "id": "GsYKTXied7Bb",
        "colab_type": "text"
      },
      "source": [
        "#HOME WORK (11/07/20)"
      ]
    },
    {
      "cell_type": "code",
      "metadata": {
        "id": "l9vjmlureFD_",
        "colab_type": "code",
        "colab": {}
      },
      "source": [
        "import pandas as pd\n",
        "import seaborn as sns\n",
        "import matplotlib.pyplot as plt\n"
      ],
      "execution_count": 11,
      "outputs": []
    },
    {
      "cell_type": "code",
      "metadata": {
        "id": "TRYw_UrDfaJ_",
        "colab_type": "code",
        "colab": {}
      },
      "source": [
        "class DataRead():\n",
        "  def __init__(self,name):\n",
        "    self.df=pd.read_csv(name)\n",
        "  def RowSelect(self,r1,r2):\n",
        "    row1=self.df.iloc[[r1-1]]\n",
        "    row2=self.df.iloc[[r2-1]]\n",
        "    print(row1)\n",
        "    print(row2)\n",
        "class DataRead2(DataRead):\n",
        "  def coplot(self):\n",
        "    relation=self.df.corr()\n",
        "    sns.heatmap(relation)\n",
        "    plt.show()\n",
        "  def RowSelect(self,r1,r2,r3):\n",
        "    row1=self.df.iloc[[r1-1]]\n",
        "    row2=self.df.iloc[[r2-1]]\n",
        "    row3=self.df.iloc[[r3-1]]\n",
        "    print(row1,row2,row3)"
      ],
      "execution_count": 16,
      "outputs": []
    },
    {
      "cell_type": "markdown",
      "metadata": {
        "id": "GqPJNISFeq87",
        "colab_type": "text"
      },
      "source": [
        "#QUESTION-1"
      ]
    },
    {
      "cell_type": "code",
      "metadata": {
        "id": "flJ66zTkeJXO",
        "colab_type": "code",
        "colab": {
          "base_uri": "https://localhost:8080/",
          "height": 173
        },
        "outputId": "1e1d24d7-94f4-4d07-e108-fa79fd3dd3f1"
      },
      "source": [
        "name=\"grad_data.csv\"\n",
        "c=DataRead(name)\n",
        "print(c.df)"
      ],
      "execution_count": 17,
      "outputs": [
        {
          "output_type": "stream",
          "text": [
            "   Unnamed: 0  College.A  College.B  College.C  College.D  College.E  College.F\n",
            "0           1       57.6       70.1       54.5       80.1       71.3       68.8\n",
            "1           2       43.2       69.6       55.6       77.3       62.6       61.0\n",
            "2           3       49.6       67.3       56.9       74.7       54.5       57.7\n",
            "3           4       51.4       76.7       71.0       79.2       57.5       66.4\n",
            "4           5       69.9       69.4       73.3       84.6       55.0       75.2\n",
            "5           6       69.9       72.6       74.8       78.8       67.0       87.4\n",
            "6           7       73.8       70.2       68.3       84.1       60.0       86.0\n",
            "7           8       72.3       74.4       67.0       74.1       58.3       79.7\n"
          ],
          "name": "stdout"
        }
      ]
    },
    {
      "cell_type": "markdown",
      "metadata": {
        "id": "K_WBobaOkAUX",
        "colab_type": "text"
      },
      "source": [
        " The def init in class DataRead is used to read the csv file by using pandas.\n",
        " "
      ]
    },
    {
      "cell_type": "markdown",
      "metadata": {
        "id": "xEkfMKmTkhkQ",
        "colab_type": "text"
      },
      "source": [
        "#Question 2\n",
        "\n",
        "Create a custom function RowSelect within the class to select any 2 rows of the the the dataframe"
      ]
    },
    {
      "cell_type": "code",
      "metadata": {
        "id": "u6oGKoXVexM7",
        "colab_type": "code",
        "colab": {
          "base_uri": "https://localhost:8080/",
          "height": 87
        },
        "outputId": "bed934f7-00fa-4fd7-8f88-8da4bebaf617"
      },
      "source": [
        "r1 =int(3)\n",
        "r2 =int(4)\n",
        "c.RowSelect(r1,r2)"
      ],
      "execution_count": 19,
      "outputs": [
        {
          "output_type": "stream",
          "text": [
            "   Unnamed: 0  College.A  College.B  College.C  College.D  College.E  College.F\n",
            "2           3       49.6       67.3       56.9       74.7       54.5       57.7\n",
            "   Unnamed: 0  College.A  College.B  College.C  College.D  College.E  College.F\n",
            "3           4       51.4       76.7       71.0       79.2       57.5       66.4\n"
          ],
          "name": "stdout"
        }
      ]
    },
    {
      "cell_type": "markdown",
      "metadata": {
        "id": "X-SIWIXllX3-",
        "colab_type": "text"
      },
      "source": [
        "To input this inplace of the numbers in the int() statement: input('Enter first row number to be displayed: ')\n",
        "\n",
        "Used RowSelect function in class DataRead to select 2 rows given by the user and display it"
      ]
    },
    {
      "cell_type": "markdown",
      "metadata": {
        "id": "IE6v1iNQl0nj",
        "colab_type": "text"
      },
      "source": [
        "#Question 3\n",
        "\n",
        "Create a sub class of DataRead1 as DataRead2 that has function for correlation plots (using any lib for correlation plot)"
      ]
    },
    {
      "cell_type": "code",
      "metadata": {
        "id": "xYZNu-zDlWmE",
        "colab_type": "code",
        "colab": {
          "base_uri": "https://localhost:8080/",
          "height": 320
        },
        "outputId": "86ba1d42-02cd-4f77-b7dd-991120b281d0"
      },
      "source": [
        "d= DataRead2(name)\n",
        "d.coplot()"
      ],
      "execution_count": 20,
      "outputs": [
        {
          "output_type": "display_data",
          "data": {
            "image/png": "[encoded data removed]",
            "text/plain": [
              "<Figure size 432x288 with 2 Axes>"
            ]
          },
          "metadata": {
            "tags": [],
            "needs_background": "light"
          }
        }
      ]
    },
    {
      "cell_type": "markdown",
      "metadata": {
        "id": "ALWMEbD-mCat",
        "colab_type": "text"
      },
      "source": [
        "Used seaborn library in function coplot() to plot correlations between columns, while using subclass as mentionesd in the question\n",
        "."
      ]
    },
    {
      "cell_type": "markdown",
      "metadata": {
        "id": "8CqKWYhAmSLt",
        "colab_type": "text"
      },
      "source": [
        "#Question 4\n",
        "Within DataRead2 also create a function to override the custom function of DataRead1 RowSelect to select 3 rows"
      ]
    },
    {
      "cell_type": "code",
      "metadata": {
        "id": "OcXlAzA2e1oe",
        "colab_type": "code",
        "colab": {
          "base_uri": "https://localhost:8080/",
          "height": 107
        },
        "outputId": "22137dbb-cf35-46dd-b08f-1bac3e6e47cc"
      },
      "source": [
        "r1 =int(4)\n",
        "r2 =int(5)\n",
        "r3= int(2)\n",
        "d.RowSelect(r1,r2,r3)"
      ],
      "execution_count": 21,
      "outputs": [
        {
          "output_type": "stream",
          "text": [
            "   Unnamed: 0  College.A  College.B  College.C  College.D  College.E  College.F\n",
            "3           4       51.4       76.7       71.0       79.2       57.5       66.4    Unnamed: 0  College.A  College.B  College.C  College.D  College.E  College.F\n",
            "4           5       69.9       69.4       73.3       84.6       55.0       75.2    Unnamed: 0  College.A  College.B  College.C  College.D  College.E  College.F\n",
            "1           2       43.2       69.6       55.6       77.3       62.6       61.0\n"
          ],
          "name": "stdout"
        }
      ]
    },
    {
      "cell_type": "markdown",
      "metadata": {
        "id": "7CXCAnlomsB7",
        "colab_type": "text"
      },
      "source": [
        "in place of the numbers used to put the following statement in  int(input()); 'Enter first row number to be displayed: '\n",
        "\n",
        "the numbers used for the first , second and third row respectively are:\n",
        "\n",
        "4\n",
        "\n",
        "5\n",
        "\n",
        "2\n",
        "\n",
        "a\n",
        "Also on the contrary, created another function with the same name as RowSelect but with different number of parameters  and displayed the 3 rows entered by the user.(input statements show error in colab)"
      ]
    },
    {
      "cell_type": "code",
      "metadata": {
        "id": "lEOHXLrxmqr2",
        "colab_type": "code",
        "colab": {}
      },
      "source": [
        ""
      ],
      "execution_count": null,
      "outputs": []
    },
    {
      "cell_type": "code",
      "metadata": {
        "id": "hhbXiuU5mewO",
        "colab_type": "code",
        "colab": {}
      },
      "source": [
        ""
      ],
      "execution_count": null,
      "outputs": []
    }
  ]
}